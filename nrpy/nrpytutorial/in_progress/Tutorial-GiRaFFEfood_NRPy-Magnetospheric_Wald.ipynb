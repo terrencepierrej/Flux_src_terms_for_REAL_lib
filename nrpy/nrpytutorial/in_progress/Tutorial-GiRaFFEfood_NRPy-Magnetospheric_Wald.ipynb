{
 "cells": [
  {
   "cell_type": "markdown",
   "metadata": {},
   "source": [
    "<script async src=\"https://www.googletagmanager.com/gtag/js?id=UA-59152712-8\"></script>\n",
    "<script>\n",
    "  window.dataLayer = window.dataLayer || [];\n",
    "  function gtag(){dataLayer.push(arguments);}\n",
    "  gtag('js', new Date());\n",
    "\n",
    "  gtag('config', 'UA-59152712-8');\n",
    "</script>\n",
    "\n",
    "# Magnetospheric Wald `GiRaFFEfood` Initial Data for `GiRaFFE`\n",
    "\n",
    "## Author: Patrick Nelson\n",
    "\n",
    "### NRPy+ Source Code for this module: [GiRaFFEfood_NRPy/GiRaFFEfood_NRPy_Magnetospheric_Wald.py](../../edit/in_progress/GiRaFFEfood_NRPy/GiRaFFEfood_NRPy_Magnetospheric_Wald.py)\n",
    "\n",
    "**Notebook Status:** <font color='green'><b> Validated </b></font>\n",
    "\n",
    "**Validation Notes:** This tutorial notebook has been confirmed to be self-consistent with its corresponding NRPy+ module, as documented [below](#code_validation1). The initial data has validated against the original `GiRaFFE`, as documented [here](Tutorial-Start_to_Finish_UnitTest-GiRaFFEfood_NRPy.ipynb).\n",
    "\n",
    "## Introduction: \n",
    "With the `GiRaFFE` evolution thorn constructed, we now need to \"feed\" our giraffe with initial data to evolve. There are several different choices of initial data we can use here; here, we will only be implementing the \"Magnetospheric Wald\" initial data, given by Table 3 in [the original paper](https://arxiv.org/pdf/1704.00599.pdf):\n",
    "\\begin{align}\n",
    "A_{i} &= \\frac{C_0}{2} (g_{i \\phi} + 2 a g_{t i}) \\\\\n",
    "E_{i} &= 0 \\\\\n",
    "\\end{align}\n",
    "(the unspecified components are set to 0). Here, $C_0$ is a constant that we will set to $1$ in our simulations. Now, to use this initial data scheme, we need to transform the above into the quantities actually tracked by `GiRaFFE` and HydroBase: $A_i$, $B^i$, $\\tilde{S}_i$, $v^i$, and $\\Phi$. Of these quantities, `GiRaFFEfood` will only set $A_i$, $v^i$, and $\\Phi=0$, then call a separate function to calculate  $\\tilde{S}_i$; `GiRaFFE` itself will call a function to set $B^i$ before the time-evolution begins. This can be done with eqs. 16 and 18, here given in that same order:\n",
    "\\begin{align}\n",
    "v^i &= \\alpha \\frac{\\epsilon^{ijk} E_j B_k}{B^2} -\\beta^i \\\\\n",
    "B^i &= \\frac{[ijk]}{\\sqrt{\\gamma}} \\partial_j A_k \\\\\n",
    "\\end{align}\n",
    "In the simulations, $B^i$ will be calculated numerically from $A_i$; however, it will be useful to analytically calculate $B^i$ to use calculating the initial $v^i$."
   ]
  },
  {
   "cell_type": "markdown",
   "metadata": {},
   "source": [
    "<a id='toc'></a>\n",
    "\n",
    "# Table of Contents:\n",
    "$$\\label{toc}$$\n",
    "\n",
    "This notebook is organized as follows\n",
    "\n",
    "1. [Step 1](#initializenrpy): Import core NRPy+ modules and set NRPy+ parameters\n",
    "1. [Step 2](#set_a_i): Set the vector $A_i$\n",
    "1. [Step 3](#set_vi): Calculate $v^i$ from $A_i$ and $E_i$\n",
    "1. [Step 4](#code_validation1): Code Validation against `GiRaFFEfood_NRPy.GiRaFFEfood_NRPy` NRPy+ Module\n",
    "1. [Step 5](#latex_pdf_output): Output this notebook to $\\LaTeX$-formatted PDF file"
   ]
  },
  {
   "cell_type": "markdown",
   "metadata": {},
   "source": [
    "<a id='initializenrpy'></a>\n",
    "\n",
    "# Step 1: Import core NRPy+ modules and set NRPy+ parameters \\[Back to [top](#toc)\\]\n",
    "$$\\label{initializenrpy}$$\n",
    "\n",
    "Here, we will import the NRPy+ core modules, set the reference metric to Cartesian, and set commonly used NRPy+ parameters. We will also set up a parameter to determine what initial data is set up, although it won't do much yet.\n",
    "\n"
   ]
  },
  {
   "cell_type": "code",
   "execution_count": 1,
   "metadata": {},
   "outputs": [],
   "source": [
    "# Step 0: Add NRPy's directory to the path\n",
    "# https://stackoverflow.com/questions/16780014/import-file-from-parent-directory\n",
    "import os,sys\n",
    "nrpy_dir_path = os.path.join(\"..\")\n",
    "if nrpy_dir_path not in sys.path:\n",
    "    sys.path.append(nrpy_dir_path)\n",
    "\n",
    "# Step 0.a: Import the NRPy+ core modules and set the reference metric to Cartesian\n",
    "import sympy as sp               # SymPy: The Python computer algebra package upon which NRPy+ depends\n",
    "import NRPy_param_funcs as par   # NRPy+: Parameter interface\n",
    "import indexedexp as ixp         # NRPy+: Symbolic indexed expression (e.g., tensors, vectors, etc.) support\n",
    "import GiRaFFEfood_NRPy.GiRaFFEfood_NRPy_Common_Functions as gfcf # Some useful functions for GiRaFFE initial data.\n",
    "\n",
    "import reference_metric as rfm\n",
    "par.set_parval_from_str(\"reference_metric::CoordSystem\",\"Cartesian\")\n",
    "rfm.reference_metric()\n",
    "\n",
    "# Step 1a: Set commonly used parameters.\n",
    "thismodule = \"GiRaFFEfood_NRPy_Magnetospheric_Wald\"\n",
    "\n",
    "C0 = par.Cparameters(\"REAL\",thismodule,\"C0\",1.0)"
   ]
  },
  {
   "cell_type": "markdown",
   "metadata": {},
   "source": [
    "<a id='set_a_i'></a>\n",
    "\n",
    "# Step 2: Set the vector $A_i$ \\[Back to [top](#toc)\\]\n",
    "$$\\label{set_a_i}$$\n",
    "\n",
    "We will first build the fundamental vectors $A_i$ and $E_i$ in spherical coordinates (see [Table 3](https://arxiv.org/pdf/1704.00599.pdf)). Note that we use reference_metric.py to set $r$ and $\\theta$ in terms of Cartesian coordinates; this will save us a step later when we convert to Cartesian coordinates. Since $C_0 = 1$,\n",
    "$$A_{i} = \\frac{C_0}{2} (g_{i \\phi} + 2 a g_{t i}).$$"
   ]
  },
  {
   "cell_type": "code",
   "execution_count": 2,
   "metadata": {},
   "outputs": [],
   "source": [
    "# Step 2: Set the vectors A and E in Spherical coordinates\n",
    "def Ar_MW(r,theta,phi, **params):\n",
    "    g4DD = params[\"g4DD\"]\n",
    "    a    = params[\"a\"]\n",
    "    return sp.Rational(1,2) * C0 * (g4DD[1][3] + 2 * a * g4DD[0][1])\n",
    "\n",
    "def Ath_MW(r,theta,phi, **params):\n",
    "    g4DD = params[\"g4DD\"]\n",
    "    a    = params[\"a\"]\n",
    "    return sp.Rational(1,2) * C0 * (g4DD[2][3] + 2 * a * g4DD[0][2])\n",
    "\n",
    "def Aph_MW(r,theta,phi, **params):\n",
    "    g4DD = params[\"g4DD\"]\n",
    "    a    = params[\"a\"]\n",
    "    return sp.Rational(1,2) * C0 * (g4DD[3][3] + 2 * a * g4DD[0][3])"
   ]
  },
  {
   "cell_type": "markdown",
   "metadata": {},
   "source": [
    "<a id='set_vi'></a>\n",
    "\n",
    "# Step 3: Calculate $v^i$ from $A_i$ and $E_i$ \\[Back to [top](#toc)\\]\n",
    "$$\\label{set_vi}$$\n",
    "\n",
    "Next, we will code up the Valencia velocity, which will require us to first code the electric and magnetic fields. \n",
    "\n",
    "The electric field is\n",
    "$$E_{i} = 0$$\\\n",
    "Since $$v_{(n)}^i = \\frac{\\epsilon^{ijk} E_j B_k}{B^2},$$ we trivially find $$v_{(n)}^i = 0,$$"
   ]
  },
  {
   "cell_type": "code",
   "execution_count": 3,
   "metadata": {},
   "outputs": [],
   "source": [
    "#Step 3: Compute v^i from A_i and E_i\n",
    "def ValenciavU_func_MW(**params):\n",
    "    return ixp.zerorank1()"
   ]
  },
  {
   "cell_type": "markdown",
   "metadata": {},
   "source": [
    "<a id='code_validation1'></a>\n",
    "\n",
    "# Step 4: Code Validation against `GiRaFFEfood_NRPy.GiRaFFEfood_NRPy` NRPy+ module  \\[Back to [top](#toc)\\]\n",
    "$$\\label{code_validation1}$$\n",
    "\n",
    "Here, as a code validation check, we verify agreement in the SymPy expressions for the `GiRaFFE` Exact Wald initial data equations  we intend to use between\n",
    "1. this tutorial and \n",
    "2. the NRPy+ [GiRaFFEfood_NRPy.GiRaFFEfood_NRPy_Exact_Wald](../edit/GiRaFFEfood_NRPy/GiRaFFEfood_NRPy_Exact_Wald.py) module.\n"
   ]
  },
  {
   "cell_type": "code",
   "execution_count": 4,
   "metadata": {},
   "outputs": [
    {
     "name": "stdout",
     "output_type": "stream",
     "text": [
      "Consistency check between GiRaFFEfood_NRPy tutorial and NRPy+ module:\n",
      "ValenciavU0 is in agreement!\n",
      "AD0 is in agreement!\n",
      "ValenciavU1 is in agreement!\n",
      "AD1 is in agreement!\n",
      "ValenciavU2 is in agreement!\n",
      "AD2 is in agreement!\n"
     ]
    }
   ],
   "source": [
    "import GiRaFFEfood_NRPy.GiRaFFEfood_NRPy as gf\n",
    "import BSSN.ShiftedKerrSchild as sks\n",
    "sks.ShiftedKerrSchild(True)\n",
    "import reference_metric as rfm   # NRPy+: Reference metric support\n",
    "par.set_parval_from_str(\"reference_metric::CoordSystem\",\"Cartesian\")\n",
    "rfm.reference_metric()\n",
    "\n",
    "import BSSN.ADMBSSN_tofrom_4metric as AB4m\n",
    "AB4m.g4DD_ito_BSSN_or_ADM(\"ADM\",sks.gammaSphDD,sks.betaSphU,sks.alphaSph)\n",
    "g4DD = AB4m.g4DD\n",
    "\n",
    "for mu in range(4):\n",
    "    for nu in range(4):\n",
    "        g4DD[mu][nu] = g4DD[mu][nu].subs(sks.r,rfm.xxSph[0]).subs(sks.th,rfm.xxSph[1])\n",
    "\n",
    "A_mwD = gfcf.Axyz_func_spherical(Ar_MW,Ath_MW,Aph_MW,stagger_enable = True,a=sks.a,g4DD = g4DD)\n",
    "Valenciav_mwD = ValenciavU_func_MW()\n",
    "gf.GiRaFFEfood_NRPy_generate_initial_data(ID_type = \"MagnetosphericWald\", stagger_enable = True,a=sks.a,g4DD = g4DD)\n",
    "\n",
    "print(\"Consistency check between GiRaFFEfood_NRPy tutorial and NRPy+ module:\")\n",
    "\n",
    "def consistency_check(quantity1,quantity2,string):\n",
    "    if quantity1-quantity2==0:\n",
    "        print(string+\" is in agreement!\")\n",
    "    else:\n",
    "        print(string+\" does not agree!\")\n",
    "        sys.exit(1)\n",
    "\n",
    "for i in range(3):\n",
    "    consistency_check(Valenciav_mwD[i],gf.ValenciavU[i],\"ValenciavU\"+str(i))\n",
    "    consistency_check(A_mwD[i],gf.AD[i],\"AD\"+str(i))"
   ]
  },
  {
   "cell_type": "markdown",
   "metadata": {},
   "source": [
    "<a id='latex_pdf_output'></a>\n",
    "\n",
    "# Step 5: Output this notebook to $\\LaTeX$-formatted PDF file \\[Back to [top](#toc)\\]\n",
    "$$\\label{latex_pdf_output}$$\n",
    "\n",
    "The following code cell converts this Jupyter notebook into a proper, clickable $\\LaTeX$-formatted PDF file. After the cell is successfully run, the generated PDF may be found in the root NRPy+ tutorial directory, with filename\n",
    "[Tutorial-GiRaFFEfood_NRPy.pdf](Tutorial-GiRaFFEfood_NRPy.pdf) (Note that clicking on this link may not work; you may need to open the PDF file through another means.)"
   ]
  },
  {
   "cell_type": "code",
   "execution_count": 5,
   "metadata": {},
   "outputs": [
    {
     "name": "stdout",
     "output_type": "stream",
     "text": [
      "Created Tutorial-GiRaFFEfood_NRPy-Magnetospheric_Wald.tex, and compiled\n",
      "    LaTeX file to PDF file Tutorial-GiRaFFEfood_NRPy-\n",
      "    Magnetospheric_Wald.pdf\n"
     ]
    }
   ],
   "source": [
    "import cmdline_helper as cmd    # NRPy+: Multi-platform Python command-line interface\n",
    "cmd.output_Jupyter_notebook_to_LaTeXed_PDF(\"Tutorial-GiRaFFEfood_NRPy-Magnetospheric_Wald\",location_of_template_file=os.path.join(\"..\"))"
   ]
  }
 ],
 "metadata": {
  "kernelspec": {
   "display_name": "Python 3",
   "language": "python",
   "name": "python3"
  },
  "language_info": {
   "codemirror_mode": {
    "name": "ipython",
    "version": 3
   },
   "file_extension": ".py",
   "mimetype": "text/x-python",
   "name": "python",
   "nbconvert_exporter": "python",
   "pygments_lexer": "ipython3",
   "version": "3.8.10"
  }
 },
 "nbformat": 4,
 "nbformat_minor": 2
}
