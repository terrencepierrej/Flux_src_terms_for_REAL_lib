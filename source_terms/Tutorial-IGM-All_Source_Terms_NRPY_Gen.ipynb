{
 "cells": [
  {
   "cell_type": "markdown",
   "metadata": {},
   "source": [
    "<script async src=\"https://www.googletagmanager.com/gtag/js?id=UA-59152712-8\"></script>\n",
    "<script>\n",
    "  window.dataLayer = window.dataLayer || [];\n",
    "  function gtag(){dataLayer.push(arguments);}\n",
    "  gtag('js', new Date());\n",
    "\n",
    "  gtag('config', 'UA-59152712-8');\n",
    "</script>\n",
    "\n",
    "# `CurviIGH_NRPy`: Source Terms\n",
    "\n",
    "## Author: Terrence Pierre Jacques & Patrick Nelson\n",
    "\n",
    "<a id='intro'></a>\n",
    "\n",
    "**Notebook Status:** <font color=green><b> Validated </b></font>\n",
    "\n",
    "**Validation Notes:** This code produces the expected results for generated functions.\n",
    "\n",
    "## This module presents the functionality of [GiRaFFE_NRPy_Source_Terms.py](../../edit/in_progress/GiRaFFE_NRPy/GiRaFFE_NRPy_Source_Terms.py).\n",
    "\n",
    "## Introduction: \n",
    "This writes and documents the C code that `GiRaFFE_NRPy` uses to compute the source terms for the right-hand sides of the evolution equations for the unstaggered prescription.\n",
    "\n",
    "The equations themselves are already coded up in other functions; however, for the $\\tilde{S}_i$ source term, we will need derivatives of the metric. It will be most efficient and accurate to take them using the interpolated metric values that we will have calculated anyway; however, we will need to write our derivatives in a nonstandard way within NRPy+ in order to take advantage of this, writing our own code for memory access."
   ]
  },
  {
   "cell_type": "markdown",
   "metadata": {},
   "source": [
    "<a id='toc'></a>\n",
    "\n",
    "# Table of Contents\n",
    "$$\\label{toc}$$\n",
    "\n",
    "This notebook is organized as follows\n",
    "\n",
    "1. [Step 1](#prelim): Preliminaries\n",
    "1. [Step 2](#stilde_source): The $\\tilde{S}_i$ source term\n",
    "1. [Step 3](#code_validation): Code Validation against original C code\n",
    "1. [Step 4](#latex_pdf_output): Output this notebook to $\\LaTeX$-formatted PDF file"
   ]
  },
  {
   "cell_type": "markdown",
   "metadata": {},
   "source": [
    "<a id='prelim'></a>\n",
    "\n",
    "# Step 1. Preliminaries \\[Back to [top](#toc)\\]\n",
    "$$\\label{prelim}$$\n",
    "\n",
    "Here we import some core NRPy+ and python modules."
   ]
  },
  {
   "cell_type": "code",
   "execution_count": 1,
   "metadata": {},
   "outputs": [],
   "source": [
    "# Step 0: Add NRPy's directory to the path\n",
    "# https://stackoverflow.com/questions/16780014/import-file-from-parent-directory\n",
    "import os,sys\n",
    "GRMHD_dir_path = os.path.join(\"../GRMHD_formulation/\")\n",
    "sys.path.append(GRMHD_dir_path)\n",
    "import GRMHD_equations_new_version as GRMHD    # NRPy+: Generate general relativistic magnetohydrodynamics equations\n",
    "\n",
    "nrpy_dir_path = os.path.join(\"../nrpy/nrpytutorial/\")\n",
    "if nrpy_dir_path not in sys.path:\n",
    "    sys.path.append(nrpy_dir_path)\n",
    "\n",
    "# Step 1: The StildeD RHS *source* term\n",
    "# Step P1: Import needed NRPy+ core modules:\n",
    "from outputC import outputC, outCfunction, outC_function_dict # NRPy+: Core C code output module\n",
    "import finite_difference as fin       # NRPy+: Finite difference C code generation module\n",
    "import NRPy_param_funcs as par        # NRPy+: Parameter interface\n",
    "import grid as gri                    # NRPy+: Functions having to do with numerical grids\n",
    "import reference_metric as rfm        # NRPy+: Reference metric support\n",
    "import indexedexp as ixp         # NRPy+: Symbolic indexed expression (e.g., tensors, vectors, etc.) support\n",
    "import cmdline_helper as cmd          # NRPy+: Multi-platform Python command-line interface\n",
    "import shutil, os, sys                # Standard Python modules for multiplatform OS-level functions\n",
    "import sympy as sp                # SymPy: The Python computer algebra package upon which NRPy+ depends\n",
    "\n",
    "thismodule = \"IGM_Source_Terms\"\n",
    "\n",
    "Ccodesdir = \"IGM_standalone_Ccodes/\"\n",
    "cmd.mkdir(os.path.join(Ccodesdir))\n",
    "\n",
    "par.set_parval_from_str(\"grid::DIM\", 3)\n",
    "DIM = par.parval_from_str(\"grid::DIM\")\n",
    "\n",
    "CoordSystem = \"Cartesian\"\n",
    "\n",
    "# Set coordinate system to dst_basis\n",
    "par.set_parval_from_str(\"reference_metric::CoordSystem\", CoordSystem)\n",
    "rfm.reference_metric()\n",
    "\n",
    "import IGM_All_Source_Terms as ST"
   ]
  },
  {
   "cell_type": "markdown",
   "metadata": {},
   "source": [
    "<a id='stilde_source'></a>\n",
    "\n",
    "# Step 2: The $\\tilde{S}_i$ source term \\[Back to [top](#toc)\\]\n",
    "$$\\label{stilde_source}$$\n"
   ]
  },
  {
   "cell_type": "code",
   "execution_count": 2,
   "metadata": {},
   "outputs": [],
   "source": [
    "# Generate SymPy symbolic expressions\n",
    "formalism=\"BSSN\"\n",
    "GRMHD.set_up_base_vars(formalism)\n",
    "\n",
    "GRMHD.compute_vU_from_u4U__no_speed_limit(GRMHD.u4U)   \n",
    "\n",
    "GRMHD.compute_sqrtgammaDET(GRMHD.gammaDD)\n",
    "GRMHD.compute_smallb4U(GRMHD.gammaDD,GRMHD.betaU,GRMHD.alpha, GRMHD.u4U, GRMHD.BU, GRMHD.sqrt4pi)\n",
    "GRMHD.compute_smallbsquared(GRMHD.gammaDD,GRMHD.betaU,GRMHD.alpha, GRMHD.smallb4U)\n",
    "\n",
    "# First compute stress-energy tensor T4UU and T4UD:\n",
    "GRMHD.compute_T4UU(GRMHD.gammaDD,GRMHD.betaU,GRMHD.alpha, GRMHD.rho_b,GRMHD.P,GRMHD.h,GRMHD.u4U, GRMHD.smallb4U, GRMHD.smallbsquared)\n",
    "GRMHD.compute_T4UD(GRMHD.gammaDD,GRMHD.betaU,GRMHD.alpha, GRMHD.T4UU)\n",
    "\n",
    "# Compute conservative variables in terms of primitive variables\n",
    "GRMHD.compute_rho_star(GRMHD.alpha, GRMHD.sqrtgammaDET, GRMHD.rho_b,GRMHD.u4U)\n",
    "GRMHD.compute_tau_tilde(GRMHD.alpha, GRMHD.sqrtgammaDET, GRMHD.T4UU,GRMHD.rho_star)\n",
    "GRMHD.compute_S_tildeD(GRMHD.alpha, GRMHD.sqrtgammaDET, GRMHD.T4UD)\n",
    "\n",
    "# Next compute fluxes of conservative variables\n",
    "GRMHD.compute_rho_star_fluxU(GRMHD.VU,GRMHD.rho_star)\n",
    "GRMHD.compute_tau_tilde_fluxU(GRMHD.alpha, GRMHD.sqrtgammaDET, GRMHD.VU, GRMHD.T4UU, GRMHD.rho_star)\n",
    "GRMHD.compute_S_tilde_fluxUD (GRMHD.alpha, GRMHD.sqrtgammaDET, GRMHD.T4UD)\n",
    "\n",
    "# Then declare derivatives & compute g4DD_zerotimederiv_dD\n",
    "GRMHD.compute_g4DD_zerotimederiv_dD(GRMHD.gammaDD,GRMHD.betaU,GRMHD.alpha, GRMHD.gammaDD_dD,GRMHD.betaU_dD,GRMHD.alpha_dD)\n",
    "\n",
    "# Then compute source terms on tau_tilde and S_tilde equations\n",
    "GRMHD.compute_tau_tilde_source_term(GRMHD.KDD,GRMHD.betaU,GRMHD.alpha, GRMHD.sqrtgammaDET, GRMHD.alpha_dD, GRMHD.T4UU)\n",
    "GRMHD.compute_S_tilde_source_termD(GRMHD.alpha,GRMHD.sqrtgammaDET,GRMHD.g4DD_zerotimederiv_dD, GRMHD.T4UU)\n"
   ]
  },
  {
   "cell_type": "markdown",
   "metadata": {},
   "source": [
    "Next we write the symbolic expressions to a C file."
   ]
  },
  {
   "cell_type": "code",
   "execution_count": 3,
   "metadata": {},
   "outputs": [],
   "source": [
    "tau_tilde_source_term_free_symbols = GRMHD.tau_tilde_source_term.free_symbols\n",
    "S_tilde_source_termD0_free_symbols = GRMHD.S_tilde_source_termD[0].free_symbols\n",
    "S_tilde_source_termD1_free_symbols = GRMHD.S_tilde_source_termD[1].free_symbols\n",
    "S_tilde_source_termD2_free_symbols = GRMHD.S_tilde_source_termD[2].free_symbols\n",
    "\n",
    "all_free_sysmbols = tau_tilde_source_term_free_symbols.union(\\\n",
    "                             S_tilde_source_termD0_free_symbols, \n",
    "                             S_tilde_source_termD1_free_symbols,\n",
    "                             S_tilde_source_termD2_free_symbols)\n",
    "\n",
    "prims_velocities = [\"u4U0\", \"u4U1\", \"u4U2\", \"u4U3\"]\n",
    "    \n",
    "prims = prims_velocities + [\"BU0\", \"BU1\", \"BU2\", \"P\", \"h\", \"rhob\"]\n",
    "params = [\"GAMMA_SPEED_LIMIT\", \"TINYDOUBLE\", \"sqrt4pi\"]\n",
    "\n",
    "prestring = \"\"\n",
    "\n",
    "for var in all_free_sysmbols:\n",
    "    if str(var) in prims:\n",
    "        prestring += \"const double \"+str(var)+\" = prims->\"+str(var)+\";\\n\"\n",
    "    if str(var) in params:\n",
    "        prestring += \"const double \"+str(var)+\" = rhss_params->\"+str(var)+\";\\n\"\n",
    "\n",
    "prestring += \"const double \"+str(GRMHD.alpha)+\" = metric_quantities->\"+str(GRMHD.alpha)+\";\\n\"\n",
    "\n",
    "if formalism==\"BSSN\":\n",
    "    prestring += \"const double \"+str(GRMHD.Bq.trK)+\" = metric_quantities->\"+str(GRMHD.Bq.trK)+\";\\n\"\n",
    "    prestring += \"const double \"+str(GRMHD.Bq.cf)+\" = metric_quantities->\"+str(GRMHD.Bq.cf)+\";\\n\"\n",
    "\n",
    "    for i in range(3):\n",
    "        vetU_var = GRMHD.Bq.vetU[i]\n",
    "        prestring += \"const double \"+str(vetU_var)+\" = metric_quantities->\"+str(vetU_var)+\";\\n\"\n",
    "\n",
    "    for i in range(3):\n",
    "        for j in range(3):\n",
    "            aDD_var = GRMHD.Bq.aDD[i][j]\n",
    "            prestring += \"const double \"+str(aDD_var)+\" = metric_quantities->\"+str(aDD_var)+\";\\n\"\n",
    "\n",
    "    for i in range(3):\n",
    "        for j in range(3):\n",
    "            hDD_var = GRMHD.Bq.hDD[i][j]\n",
    "            prestring += \"const double \"+str(hDD_var)+\" = metric_quantities->\"+str(hDD_var)+\";\\n\"\n",
    "            \n",
    "    for var in all_free_sysmbols:\n",
    "        if \"_dD\" in str(var):\n",
    "            prestring += \"const double \"+str(var)+\" = metric_quantities_derivatives->\"+str(var)+\";\\n\"\n",
    "\n",
    "else:\n",
    "    for i in range(3):\n",
    "            betaU_var = GRMHD.betaU[i]\n",
    "            prestring += \"const double \"+str(betaU_var)+\" = metric_quantities->\"+str(betaU_var)+\";\\n\"\n",
    "\n",
    "    for i in range(3):\n",
    "        for j in range(3):\n",
    "            KDD_var = GRMHD.KDD[i][j]\n",
    "            prestring += \"const double \"+str(KDD_var)+\" = metric_quantities->\"+str(KDD_var)+\";\\n\"\n",
    "\n",
    "    for i in range(3):\n",
    "        for j in range(3):\n",
    "            gammaDD_var = GRMHD.gammaDD[i][j]\n",
    "            prestring += \"const double \"+str(gammaDD_var)+\" = metric_quantities->\"+str(gammaDD_var)+\";\\n\"\n",
    "            \n",
    "    for var in all_free_sysmbols:\n",
    "        if \"_dD\" in str(var):\n",
    "            prestring += \"const double \"+str(var)+\" = metric_quantities_derivatives->\"+str(var)+\";\\n\""
   ]
  },
  {
   "cell_type": "code",
   "execution_count": 4,
   "metadata": {},
   "outputs": [
    {
     "name": "stdout",
     "output_type": "stream",
     "text": [
      "Output C function calculate_all_source_terms() to file IGM_standalone_Ccodes/calculate_all_source_terms.h\n"
     ]
    }
   ],
   "source": [
    "outCparams = \"outCverbose=False,CSE_sorting=canonical,CSE_enable=True\"\n",
    "desc = \"Adds source term and connection terms to Stilde, rho_star and tau_tilde\"\n",
    "#     includes = [\"NRPy_basic_defines.h\", \"NRPy_function_prototypes.h\"]\n",
    "name = \"calculate_all_source_terms\"\n",
    "vars_to_write = [\"conservative_sources->StildeD0_rhs\", \"conservative_sources->StildeD1_rhs\", \"conservative_sources->StildeD2_rhs\", \"conservative_rhs->tau_tilde_rhs\"]\n",
    "\n",
    "vars_rhs = [GRMHD.S_tilde_source_termD[0], \n",
    "            GRMHD.S_tilde_source_termD[1], \n",
    "            GRMHD.S_tilde_source_termD[2], \n",
    "            GRMHD.tau_tilde_source_term]\n",
    "\n",
    "body = outputC(vars_rhs, vars_to_write, params=outCparams, \n",
    "               filename=\"returnstring\", prestring=prestring)\n",
    "\n",
    "\n",
    "c_type = \"void\"\n",
    "params   = \"const rhss_paramstruct *restrict rhss_params, \"\n",
    "params  += \"const prims_struct *restrict prims, \"\n",
    "params  += \"const metric_quantities_struct *restrict metric_quantities, \"\n",
    "params  += \"const metric_quantities_derivatives_struct *restrict metric_quantities_derivatives, \"\n",
    "params  += \"conservative_sources_struct *restrict conservative_sources\"\n",
    "\n",
    "outCfunction(\n",
    "    outfile=os.path.join(Ccodesdir,name+\".h\"),\n",
    "#     includes=includes,\n",
    "    desc=desc,\n",
    "    c_type=c_type, name=name, params=params,\n",
    "    enableCparameters=False,\n",
    "    body=body)"
   ]
  },
  {
   "cell_type": "markdown",
   "metadata": {},
   "source": [
    "<a id='code_validation'></a>\n",
    "\n",
    "# Step 3:  Code Validation against `GiRaFFE_NRPy.Stilde_flux` NRPy+ Module \\[Back to [top](#toc)\\]\n",
    "$$\\label{code_validation}$$\n",
    "\n",
    "\n",
    "Here, as a code validation check, we verify agreement in the C code generated by \n",
    "1. this tutorial and \n",
    "2. the NRPy+ [CurviGiRaFFE_NRPy.CurviGiRaFFE_Stilde_Source_Terms](../../edit/in_progress/CurviGiRaFFE_NRPy.CurviGiRaFFE_Stilde_Source_Terms.py) module."
   ]
  },
  {
   "cell_type": "code",
   "execution_count": 5,
   "metadata": {
    "scrolled": false
   },
   "outputs": [
    {
     "name": "stdout",
     "output_type": "stream",
     "text": [
      "Printing difference between original C code and this code...\n",
      "Checking file calculate_all_source_terms.h\n",
      "No difference. TEST PASSED!\n"
     ]
    }
   ],
   "source": [
    "# Define the directory that we wish to validate against:\n",
    "valdir = \"IGM_val/\"\n",
    "cmd.mkdir(os.path.join(valdir))\n",
    "\n",
    "import IGM_All_Source_Terms as ST\n",
    "ST.add_to_Cfunction_dict__Stilde_SourceTerms(formalism=formalism)\n",
    "\n",
    "with open(os.path.join(valdir,name+\".h\"), \"w\") as file:\n",
    "    file.write(outC_function_dict[name])\n",
    "\n",
    "import difflib\n",
    "import sys\n",
    "\n",
    "print(\"Printing difference between original C code and this code...\")\n",
    "# Open the files to compare\n",
    "files = [\"calculate_all_source_terms.h\"]\n",
    "\n",
    "for file in files:\n",
    "    print(\"Checking file \" + file)\n",
    "    with open(os.path.join(valdir,file)) as file1, open(os.path.join(Ccodesdir,file)) as file2:\n",
    "        # Read the lines of each file\n",
    "        file1_lines = file1.readlines()\n",
    "        file2_lines = file2.readlines()\n",
    "        num_diffs = 0\n",
    "        for line in difflib.unified_diff(file1_lines, file2_lines, fromfile=os.path.join(valdir+file), tofile=os.path.join(Ccodesdir+file)):\n",
    "            sys.stdout.writelines(line)\n",
    "            num_diffs = num_diffs + 1\n",
    "        if num_diffs == 0:\n",
    "            print(\"No difference. TEST PASSED!\")\n",
    "        else:\n",
    "            print(\"ERROR: Disagreement found with .py file. See differences above.\")\n",
    "            sys.exit(1)"
   ]
  },
  {
   "cell_type": "markdown",
   "metadata": {},
   "source": [
    "<a id='latex_pdf_output'></a>\n",
    "\n",
    "# Step 4: Output this notebook to $\\LaTeX$-formatted PDF file \\[Back to [top](#toc)\\]\n",
    "$$\\label{latex_pdf_output}$$\n",
    "\n",
    "The following code cell converts this Jupyter notebook into a proper, clickable $\\LaTeX$-formatted PDF file. After the cell is successfully run, the generated PDF may be found in the root NRPy+ tutorial directory, with filename\n",
    "[Tutorial-GiRaFFE_NRPy_C_code_library-Source_Terms](TTutorial-GiRaFFE_NRPy_C_code_library-Source_Terms.pdf) (Note that clicking on this link may not work; you may need to open the PDF file through another means.)"
   ]
  },
  {
   "cell_type": "code",
   "execution_count": 6,
   "metadata": {},
   "outputs": [
    {
     "name": "stdout",
     "output_type": "stream",
     "text": [
      "[NbConvertApp] WARNING | pattern 'Tutorial-GiRaFFE_NRPy-Source_Terms.ipynb' matched no files\n",
      "Created Tutorial-GiRaFFE_NRPy-Source_Terms.tex, and compiled LaTeX file to\n",
      "    PDF file Tutorial-GiRaFFE_NRPy-Source_Terms.pdf\n"
     ]
    }
   ],
   "source": [
    "import cmdline_helper as cmd    # NRPy+: Multi-platform Python command-line interface\n",
    "cmd.output_Jupyter_notebook_to_LaTeXed_PDF(\"Tutorial-GiRaFFE_NRPy-Source_Terms\",location_of_template_file=os.path.join(\"..\"))"
   ]
  }
 ],
 "metadata": {
  "kernelspec": {
   "display_name": "Python 3 (ipykernel)",
   "language": "python",
   "name": "python3"
  },
  "language_info": {
   "codemirror_mode": {
    "name": "ipython",
    "version": 3
   },
   "file_extension": ".py",
   "mimetype": "text/x-python",
   "name": "python",
   "nbconvert_exporter": "python",
   "pygments_lexer": "ipython3",
   "version": "3.10.4"
  }
 },
 "nbformat": 4,
 "nbformat_minor": 2
}
